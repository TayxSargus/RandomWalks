{
 "cells": [
  {
   "cell_type": "markdown",
   "metadata": {},
   "source": [
    "# Evolving Cellular Automata\n",
    "\n"
   ]
  },
  {
   "cell_type": "code",
   "execution_count": 1,
   "metadata": {},
   "outputs": [],
   "source": [
    "import random\n",
    "import numpy as np\n",
    "import matplotlib.pyplot as plt\n",
    "import pickle\n",
    "plt.style.use('seaborn-deep')\n",
    "%matplotlib inline\n",
    "%config InlineBackend.figure_format = 'retina'"
   ]
  },
  {
   "cell_type": "code",
   "execution_count": 2,
   "metadata": {},
   "outputs": [],
   "source": [
    "# Parameters\n",
    "R = 3  # size of neighbourhood\n",
    "N_RULES = 2 ** (2 * R + 1)  #  number of rules in a ruleset\n",
    "N = 79  # universe length"
   ]
  },
  {
   "cell_type": "code",
   "execution_count": 3,
   "metadata": {},
   "outputs": [],
   "source": [
    "def uniform_random_binary(length, lower_bound=0, upper_bound=None):\n",
    "    \"\"\"\n",
    "    Generates a random binary string of a given length, sampled uniformly over\n",
    "    the density of ones.\n",
    "\n",
    "    :param length: desired length of output binary string\n",
    "    :type length: int\n",
    "    :param lower_bound: the lower bound (inclusive) of the number of 1s present,\n",
    "                        defaults to 0.\n",
    "    :param upper_bound: the upper bound (exclusive) of the number of 1s present.\n",
    "    :return: binary string\n",
    "    :rtype: str\n",
    "    \"\"\"\n",
    "    if upper_bound is None:\n",
    "        # Default is the length (i.e all 1s)\n",
    "        upper_bound = length\n",
    "\n",
    "    n_ones = random.randrange(lower_bound, upper_bound)\n",
    "    binary = [\"1\"] * n_ones + [\"0\"] * (length - n_ones)\n",
    "    random.shuffle(binary)\n",
    "    return \"\".join(binary)"
   ]
  },
  {
   "cell_type": "code",
   "execution_count": 4,
   "metadata": {},
   "outputs": [],
   "source": [
    "def rule_keys(n_rules, radius=3):\n",
    "    \"\"\"\n",
    "    Generate the keys for the ruleset (i.e incrementing binary strings)\n",
    "    :param n_rules: the number of rules\n",
    "    :type n_rules: int\n",
    "    :return: rule keys\n",
    "    :rtype: list\n",
    "    \"\"\"\n",
    "    return [str(bin(i))[2:].zfill(2*radius + 1) for i in range(n_rules)]"
   ]
  },
  {
   "cell_type": "code",
   "execution_count": 5,
   "metadata": {},
   "outputs": [],
   "source": [
    "def single_iteration(config, ruleset, radius):\n",
    "    \"\"\"\n",
    "    Iterate a cellular automaton once as per the ruleset.\n",
    "\n",
    "    :param config: input configuration\n",
    "    :type config: str\n",
    "    :param ruleset: given ruleset mapping all possible binary strings to 0 or 1.\n",
    "    :type ruleset: dict\n",
    "    :param radius: number of neighbours on either side\n",
    "    :type radius: int\n",
    "    :return: the next iteration of the configuration given the ruleset\n",
    "    :rtype: str\n",
    "    \"\"\"\n",
    "    next_iteration = \"\"\n",
    "    extended_config = config[-radius:] + config + config[:radius]\n",
    "    \n",
    "    for i in range(radius, len(config) + radius):\n",
    "         next_iteration += ruleset[extended_config[i-radius:i + radius+1]]\n",
    "    return next_iteration\n",
    "\n",
    "\n",
    "\n",
    "def iterate_automata(initial, ruleset, n_iter, radius=3, verbose=False):\n",
    "    \"\"\"\n",
    "    Iterate an automaton many times\n",
    "\n",
    "    :param initial: initial config\n",
    "    :type initial: str\n",
    "    :param ruleset: given ruleset mapping all possible binary strings to 0 or 1.\n",
    "    :type ruleset: dict\n",
    "    :param n_iter: number of iterations\n",
    "    :type n_iter: int\n",
    "    :param radius: number of neighbours on either side\n",
    "    :type radius: int\n",
    "    :return: the history, i.e the binary string at each iteration\n",
    "    :rtype: list\n",
    "    \"\"\"\n",
    "    config = initial\n",
    "    history = [config]\n",
    "    for _ in range(n_iter):\n",
    "        config = single_iteration(config, ruleset, radius)\n",
    "        if verbose:\n",
    "            print(config)\n",
    "        history.append(config)\n",
    "    return history"
   ]
  },
  {
   "cell_type": "code",
   "execution_count": 6,
   "metadata": {},
   "outputs": [],
   "source": [
    "def plot_spacetime_diagram(binary_history, filename=None):\n",
    "    \"\"\"\n",
    "    Generate a spacetime diagram for a given cellular automaton\n",
    "\n",
    "    :param binary_history: list of binary strings corresponding to CA's history\n",
    "    :type binary_history: list\n",
    "    \"\"\"\n",
    "    arr = np.array([[int(digit) for digit in row] for row in binary_history])\n",
    "    plt.figure()\n",
    "    plt.imshow(arr, cmap=\"Purples\")\n",
    "    if filename is None:\n",
    "        plt.show()\n",
    "    else:\n",
    "        plt.savefig(filename, dpi=300)"
   ]
  },
  {
   "cell_type": "markdown",
   "metadata": {},
   "source": [
    "## The majority ruleset\n",
    "\n",
    "In this case, each cell sets its next state to whatever the majority is in its neighbourhood of 7 cells (including itself). This does not give good results, as the cells are unable to transfer their knowledge to other parts of the universe. "
   ]
  },
  {
   "cell_type": "code",
   "execution_count": 7,
   "metadata": {},
   "outputs": [],
   "source": [
    "# Defining the ruleset\n",
    "majority_ruleset = {}\n",
    "for rule_input in rule_keys(N_RULES):\n",
    "    # 1 if the majority of the neighbourhood is 1.\n",
    "    rule_value = int((sum(digit == \"1\" for digit in rule_input) > R))\n",
    "    majority_ruleset.update({rule_input: str(rule_value)})"
   ]
  },
  {
   "cell_type": "code",
   "execution_count": 8,
   "metadata": {},
   "outputs": [
    {
     "name": "stdout",
     "output_type": "stream",
     "text": [
      "0101001110101001101111110100110100000001011001001000101101010111100111010101101\n",
      "41\n"
     ]
    },
    {
     "data": {
      "image/png": "[encoded data removed]",
      "text/plain": [
       "<matplotlib.figure.Figure at 0x109559780>"
      ]
     },
     "metadata": {
      "image/png": {
       "height": 250,
       "width": 250
      }
     },
     "output_type": "display_data"
    }
   ],
   "source": [
    "# Iterating\n",
    "random.seed(7)\n",
    "initial_config = uniform_random_binary(N)\n",
    "print(initial_config)\n",
    "print(sum(i == \"1\" for i in initial_config))\n",
    "majority_history = iterate_automata(initial_config, majority_ruleset, n_iter=N, radius=R)\n",
    "plot_spacetime_diagram(majority_history)"
   ]
  },
  {
   "cell_type": "markdown",
   "metadata": {},
   "source": [
    "## Genetic algorithms"
   ]
  },
  {
   "cell_type": "code",
   "execution_count": 9,
   "metadata": {},
   "outputs": [],
   "source": [
    "def random_ruleset(n_rules):\n",
    "    \"\"\"\n",
    "    Combine rule keys with random binary strings to form random rulesets\n",
    "\n",
    "    :param n_rules: the number of rules\n",
    "    :type n_rules: int\n",
    "    :return: a hexadecimal ID, and a ruleset (mapping between rule key and 0 or 1)\n",
    "    :rtype: str, dict\n",
    "    \"\"\"\n",
    "    rule_values = uniform_random_binary(n_rules)\n",
    "    hex_id = hex(int(rule_values, 2))\n",
    "    return hex_id, dict(zip(rule_keys(n_rules), rule_values))\n",
    "\n",
    "def random_ruleset2(n_rules):\n",
    "    \"\"\"\n",
    "    Combine rule keys with random binary strings to form random rulesets\n",
    "\n",
    "    :param n_rules: the number of rules\n",
    "    :type n_rules: int\n",
    "    :return: a hexadecimal ID, and a ruleset (mapping between rule key and 0 or 1)\n",
    "    :rtype: str, dict\n",
    "    \"\"\"\n",
    "    rule_values = str(bin(random.randint(0, 2**n_rules - 1)))[2:].zfill(n_rules)\n",
    "    hex_id = hex(int(rule_values, 2))\n",
    "    return hex_id, dict(zip(rule_keys(n_rules), rule_values))\n",
    "\n",
    "\n",
    "def generate_random_ICs(universe_size, n_ic, p_c=0.5):\n",
    "    \"\"\"\n",
    "    Generate random initial conditions (binary strings), with exactly half having\n",
    "    a minority of 1s and the other half having a majority of 1s.\n",
    "\n",
    "    :param universe_size: length of universe (N)\n",
    "    :type universe_size: int\n",
    "    :param n_ic: number of random initial conditions to setup (N_IC)\n",
    "    :type n_ic: int\n",
    "    :param p_c: cutoff proportion to be considered a majority (P_C)\n",
    "    :type p_c: float\n",
    "    \"\"\"\n",
    "    all_init_conds = []\n",
    "    cutoff = int(p_c * universe_size) + 1\n",
    "    # Exactly half of the initial conditions will have p < p_c\n",
    "    for _ in range(n_ic // 2):\n",
    "        all_init_conds.append(uniform_random_binary(universe_size, 0, cutoff))\n",
    "        all_init_conds.append(\n",
    "            uniform_random_binary(universe_size, cutoff, universe_size + 1)\n",
    "        )\n",
    "    return all_init_conds"
   ]
  },
  {
   "cell_type": "code",
   "execution_count": 10,
   "metadata": {},
   "outputs": [],
   "source": [
    "def hex_to_ruleset(hex_id, n_rules=128):\n",
    "    \"\"\"\n",
    "    Given a hex_id, convert it to a ruleset\n",
    "    \"\"\"\n",
    "    rule_values = bin(int(hex_id, 16))[2:].zfill(n_rules)\n",
    "    return dict(zip(rule_keys(n_rules), rule_values))\n",
    "\n",
    "def crossover_and_mutate(hex1, hex2, n_rules=128, n_crossover_points=1, n_mutations=2):\n",
    "    \"\"\"\n",
    "    :param hex1: first parent\n",
    "    :param hex2: second parent\n",
    "    :param n_rules: number of rules in the rulesets\n",
    "    :param n_crossover_points: number of pointwise crossovers\n",
    "    :param n_mutations: number of pointwise mutations\n",
    "    \"\"\"\n",
    "    bin1 = list(bin(int(hex1, 16))[2:].zfill(n_rules))\n",
    "    bin2 = list(bin(int(hex2, 16))[2:].zfill(n_rules))\n",
    "    # Single point crossover – get indices of unequal, then randomly select\n",
    "    unequal_indices = [i for i, digit in enumerate(bin1) if bin2[i] != digit]\n",
    "    if len(unequal_indices) > n_crossover_points:\n",
    "        crossover_points = random.sample(unequal_indices, n_crossover_points)\n",
    "        for c in crossover_points:\n",
    "            bin1[c] = bin2[c]\n",
    "    # Mutation\n",
    "    for _ in range(n_mutations):\n",
    "        idx = random.randrange(n_rules)\n",
    "        bin1[idx] = str(int(not bool(bin1[idx])))\n",
    "    return hex(int(\"\".join(bin1),2))\n"
   ]
  },
  {
   "cell_type": "code",
   "execution_count": null,
   "metadata": {},
   "outputs": [],
   "source": [
    "N = 59  # universe size\n",
    "MAX_ITER = 100  # maximum iterations per CA\n",
    "N_CHROMOSOMES = 100  # number of different rulesets in the initial population\n",
    "GEN = 50  # number of generations\n",
    "N_IC = 100  # number of initial conditions to test a rule on\n",
    "\n",
    "random.seed(0)\n",
    "population = {}\n",
    "for _ in range(N_CHROMOSOMES):\n",
    "    id, ruleset = random_ruleset2(N_RULES)\n",
    "    population[id] = ruleset\n",
    "    \n",
    "generation_best_performers = []\n",
    "all_fitnesses = []\n",
    "\n",
    "for gen in range(GEN):\n",
    "    print(\"\\nGen\", gen, \"\\n==========\")\n",
    "\n",
    "    # Generate random initial conditions to test chromosomes\n",
    "    generation_ics = generate_random_ICs(N, N_IC)\n",
    "    fitness_log = []\n",
    "\n",
    "    for hex_id, chromosome in population.items():\n",
    "        # For each chromosome, evaluate performance on random ICs.\n",
    "        fitness = 0\n",
    "        for config in generation_ics:\n",
    "            majority = config.count(\"1\") > len(config) // 2\n",
    "            hist = iterate_automata(config, chromosome, MAX_ITER, verbose=False)\n",
    "            if hist[-1] == str(int(majority)) * len(config):\n",
    "                fitness += 1\n",
    "        print(\"hex_id\", hex_id, \"  Fitness\", fitness)\n",
    "        fitness_log.append((hex_id, fitness))\n",
    "    all_fitnesses.append(fitness_log)\n",
    "    generation_best_performers.append(fitness_log[0][0])\n",
    "\n",
    "    # Copy the top 20 to the next generation\n",
    "    new_population = {}\n",
    "    for i in elites:\n",
    "        new_population[i] = hex_to_ruleset(i)\n",
    "\n",
    "    # Generate the offspring from randomly selected pairs of elites\n",
    "    for _ in range(N_CHROMOSOMES - 20):\n",
    "        parent1, parent2 = random.sample(elites, 2) \n",
    "        child_hex = crossover_and_mutate(parent1, parent2, n_crossover_points=1, n_mutations=15)\n",
    "        new_population[child_hex] = hex_to_ruleset(child_hex)\n",
    "\n",
    "    population = new_population"
   ]
  },
  {
   "cell_type": "markdown",
   "metadata": {},
   "source": [
    "## Refactor and save\n",
    "\n",
    "Because of the time it takes for a single run of the genetic algorithm, and the need for having multiple runs, I refactored the genetic algorithm into a function, which pickles the results for later analysis. This way, I can conduct something like 40 runs overnight. "
   ]
  },
  {
   "cell_type": "code",
   "execution_count": 11,
   "metadata": {},
   "outputs": [],
   "source": [
    "def evolve_automata(universe_size=59, n_crossover_points=1, n_mutations=2, \n",
    "                    random_seed=None, n_ic=100, n_gen=100, ruleset_generator=2):\n",
    "    \n",
    "    random.seed(random_seed)\n",
    "    population = {}\n",
    "    for _ in range(N_CHROMOSOMES):\n",
    "        if ruleset_generator == 2:\n",
    "            id, ruleset = random_ruleset2(N_RULES)\n",
    "        else:\n",
    "            id, ruleset = random_ruleset(N_RULES)\n",
    "        population[id] = ruleset\n",
    "\n",
    "    all_ics = [generate_random_ICs(universe_size, n_ic) for _ in range(n_gen)]\n",
    "    generation_best_performers = []\n",
    "    all_fitnesses = []\n",
    "\n",
    "    for gen in range(n_gen):\n",
    "        print(\"\\nGen\", gen, \"\\n==========\")\n",
    "\n",
    "        # Generate random initial conditions to test chromosomes\n",
    "        generation_ics = all_ics[gen]\n",
    "        fitness_log = []\n",
    "\n",
    "        for hex_id, chromosome in population.items():\n",
    "            # For each chromosome, evaluate performance on random ICs.\n",
    "            fitness = 0\n",
    "            for config in generation_ics:\n",
    "                majority = config.count(\"1\") > len(config) // 2\n",
    "                hist = iterate_automata(config, chromosome, MAX_ITER, verbose=False)\n",
    "                if hist[-1] == str(int(majority)) * len(config):\n",
    "                    fitness += 1\n",
    "            print(\"hex_id\", hex_id, \"  Fitness\", fitness)\n",
    "            fitness_log.append((hex_id, fitness))\n",
    "\n",
    "        all_fitnesses.append(fitness_log)\n",
    "\n",
    "        # Find top 20 in population\n",
    "        fitness_log.sort(key=lambda x: x[1], reverse=True)\n",
    "        elites = [i[0] for i in fitness_log[:20]]\n",
    "\n",
    "        print(\"Generation best:\", fitness_log[0])\n",
    "        print(\"Least fit elite:\", fitness_log[20])\n",
    "\n",
    "        # Copy the top 20 to the next generation\n",
    "        new_population = {}\n",
    "        for i in elites:\n",
    "            new_population[i] = hex_to_ruleset(i)\n",
    "\n",
    "        # Generate the offspring from randomly selected pairs of elites\n",
    "        for _ in range(N_CHROMOSOMES - 20):\n",
    "            parent1, parent2 = random.sample(elites, 2) \n",
    "            child_hex = crossover_and_mutate(parent1, parent2, \n",
    "                                             n_crossover_points=n_crossover_points, \n",
    "                                             n_mutations=n_mutations)\n",
    "            new_population[child_hex] = hex_to_ruleset(child_hex)\n",
    "\n",
    "        population = new_population\n",
    "        \n",
    "    filename = f\"ca_pickles/N{universe_size}C{n_crossover_points}\" + \\\n",
    "               f\"M{n_mutations}S{random_seed}G{n_gen}R{ruleset_generator}.pickle\" \n",
    "    with open(filename, \"wb\") as output_file:\n",
    "        pickle.dump((all_ics, all_fitnesses), output_file)\n",
    "    \n",
    "    return all_fitnesses, all_ics"
   ]
  },
  {
   "cell_type": "code",
   "execution_count": null,
   "metadata": {},
   "outputs": [],
   "source": [
    "# for r in range(20):\n",
    "#     evolve_automata(59, n_crossover_points=1, n_mutations=6, random_seed=r, n_ic=100, n_gen=50, \n",
    "#                         ruleset_generator=1)\n",
    "    \n",
    "# for r in range(20, 50):\n",
    "#     evolve_automata(59, n_crossover_points=1, n_mutations=6, random_seed=r, n_ic=100, n_gen=50)\n",
    "    \n",
    "# for r in range(20):\n",
    "#     evolve_automata(59, n_crossover_points=1, n_mutations=12, random_seed=r, n_ic=100, n_gen=50)\n",
    "    \n",
    "# for r in range(3, 20):\n",
    "#     evolve_automata(59, n_crossover_points=1, n_mutations=18, random_seed=r, n_ic=100, n_gen=50)\n",
    "\n",
    "# for r in range(10):\n",
    "#     evolve_automata(149, n_crossover_points=1, n_mutations=2, random_seed=r, n_ic=100, n_gen=80)\n",
    "    \n",
    "\n",
    "for r in range(10):\n",
    "    evolve_automata(59, n_crossover_points=4, n_mutations=12, random_seed=r, n_ic=100, n_gen=50)\n"
   ]
  },
  {
   "cell_type": "markdown",
   "metadata": {},
   "source": [
    "## Analysis of hyperparameters"
   ]
  },
  {
   "cell_type": "code",
   "execution_count": 76,
   "metadata": {},
   "outputs": [],
   "source": [
    "import os\n",
    "\n",
    "avl_pickles = os.listdir(\"ca_pickles/\")\n",
    "m6_r1 = [i for i in avl_pickles if \"M6\" in i and \"R1\" in i]\n",
    "m6_r2 = [i for i in avl_pickles if \"M6\" in i and \"R2\" in i]\n",
    "m12 = [i for i in avl_pickles if \"M12\" in i]\n",
    "m18 = [i for i in avl_pickles if \"M18\" in i]"
   ]
  },
  {
   "cell_type": "code",
   "execution_count": 77,
   "metadata": {},
   "outputs": [],
   "source": [
    "def analyse_runs(input_pickles):\n",
    "    mean_fitnesses = []\n",
    "    for file in input_pickles:\n",
    "        try:\n",
    "            with open(\"ca_pickles/\"+file, \"rb\") as infile:\n",
    "                ics, fitnesses = pickle.load(infile)\n",
    "        except:\n",
    "            continue\n",
    "        # Calculate the mean of the mean elite fitness over the last 10 generations.\n",
    "        total = 0\n",
    "        for gen_fitness_log in fitnesses[-10:]:\n",
    "            # Get the generation elites\n",
    "            gen_fitness_log.sort(key=lambda x: x[1], reverse=True)\n",
    "            gen_elites = [i[1] for i in gen_fitness_log[:20]]\n",
    "            # Mean of the elites for the last 10 generations\n",
    "            total += sum(gen_elites) /20\n",
    "\n",
    "        mean = total/10\n",
    "        mean_fitnesses.append(mean)\n",
    "        seed = file.split('S')[1].split('G')[0]\n",
    "        print(f\"Seed {seed}: {mean:.1f}\")\n",
    "\n",
    "    return mean_fitnesses"
   ]
  },
  {
   "cell_type": "code",
   "execution_count": 78,
   "metadata": {},
   "outputs": [
    {
     "name": "stdout",
     "output_type": "stream",
     "text": [
      "N_MUTATIONS=6, R1 \n",
      "=================\n",
      "Seed 0: 52.0\n",
      "Seed 19: 74.7\n",
      "Seed 9: 51.8\n",
      "Seed 10: 51.4\n",
      "Seed 15: 91.0\n",
      "Seed 5: 51.0\n",
      "Seed 6: 74.9\n",
      "Seed 16: 79.7\n",
      "Seed 13: 92.2\n",
      "Seed 3: 62.7\n",
      "Seed 4: 51.2\n",
      "Seed 14: 51.5\n",
      "Seed 11: 81.6\n",
      "Seed 8: 51.3\n",
      "Seed 18: 78.6\n",
      "Seed 1: 51.2\n",
      "Seed 2: 52.0\n",
      "Seed 12: 52.0\n",
      "Seed 17: 52.0\n",
      "Seed 7: 52.0\n",
      "8 have fitness higher than 55%\n",
      "N_MUTATIONS=6, R2 \n",
      "=================\n",
      "Seed 8: 83.5\n",
      "Seed 23: 50.7\n",
      "Seed 11: 52.2\n",
      "Seed 1: 92.6\n",
      "Seed 18: 51.2\n",
      "Seed 4: 51.1\n",
      "Seed 26: 51.7\n",
      "Seed 14: 50.0\n",
      "Seed 17: 51.5\n",
      "Seed 25: 51.4\n",
      "Seed 30: 50.0\n",
      "Seed 7: 51.5\n",
      "Seed 29: 89.9\n",
      "Seed 2: 51.7\n",
      "Seed 12: 79.2\n",
      "Seed 20: 51.5\n",
      "Seed 15: 83.1\n",
      "Seed 27: 52.0\n",
      "Seed 5: 51.7\n",
      "Seed 19: 73.5\n",
      "Seed 0: 57.2\n",
      "Seed 10: 51.6\n",
      "Seed 9: 51.2\n",
      "Seed 22: 82.3\n",
      "Seed 21: 51.0\n",
      "Seed 13: 52.1\n",
      "Seed 28: 56.3\n",
      "Seed 3: 50.0\n",
      "Seed 6: 78.7\n",
      "Seed 24: 51.8\n",
      "Seed 16: 82.9\n",
      "11 have fitness higher than 55%\n",
      "\n",
      "N_MUTATIONS=12 \n",
      "==============\n",
      "Seed 9: 51.2\n",
      "Seed 16: 80.2\n",
      "Seed 0: 57.2\n",
      "Seed 13: 79.9\n",
      "Seed 5: 51.7\n",
      "Seed 19: 51.8\n",
      "Seed 6: 75.9\n",
      "Seed 10: 51.6\n",
      "Seed 3: 51.6\n",
      "Seed 15: 75.8\n",
      "Seed 4: 51.1\n",
      "Seed 12: 50.0\n",
      "Seed 1: 51.6\n",
      "Seed 17: 51.5\n",
      "Seed 8: 50.0\n",
      "Seed 14: 50.0\n",
      "Seed 2: 51.7\n",
      "Seed 11: 52.2\n",
      "Seed 7: 51.5\n",
      "Seed 18: 51.2\n",
      "5 have fitness higher than 55%\n",
      "\n",
      "N_MUTATIONS=18 \n",
      "==============\n",
      "Seed 15: 52.1\n",
      "Seed 3: 51.6\n",
      "Seed 10: 51.6\n",
      "Seed 6: 50.0\n",
      "Seed 19: 51.8\n",
      "Seed 5: 51.7\n",
      "Seed 13: 52.1\n",
      "Seed 0: 51.7\n",
      "Seed 16: 51.6\n",
      "Seed 9: 75.6\n",
      "Seed 18: 51.2\n",
      "Seed 7: 51.5\n",
      "Seed 11: 52.2\n",
      "Seed 2: 51.7\n",
      "Seed 14: 51.3\n",
      "Seed 8: 50.0\n",
      "Seed 17: 51.5\n",
      "Seed 1: 51.6\n",
      "Seed 12: 51.8\n",
      "Seed 4: 51.1\n",
      "1 have fitness higher than 55%\n"
     ]
    }
   ],
   "source": [
    "print(\"N_MUTATIONS=6, R1 \\n=================\")\n",
    "res = analyse_runs(m6_r1)\n",
    "print(sum(r > 55 for r in res), \"have fitness higher than 55%\")\n",
    "\n",
    "print(\"N_MUTATIONS=6, R2 \\n=================\")\n",
    "res = analyse_runs(m6_r2)\n",
    "print(sum(r > 55 for r in res), \"have fitness higher than 55%\")\n",
    "\n",
    "print(\"\\nN_MUTATIONS=12 \\n==============\")\n",
    "res = analyse_runs(m12)\n",
    "print(sum(r > 55 for r in res), \"have fitness higher than 55%\")\n",
    "\n",
    "print(\"\\nN_MUTATIONS=18 \\n==============\")\n",
    "res = analyse_runs(m18)\n",
    "print(sum(r > 55 for r in res), \"have fitness higher than 55%\")"
   ]
  },
  {
   "cell_type": "markdown",
   "metadata": {},
   "source": [
    "## Analysis of evolved CAs"
   ]
  },
  {
   "cell_type": "code",
   "execution_count": 85,
   "metadata": {},
   "outputs": [],
   "source": [
    "with open('ca_pickles/N59C1M6S1G50R2.pickle', 'rb') as infile:\n",
    "    ics, fitnesses = pickle.load(infile)\n",
    "\n",
    "fittest = fitnesses[-1][0][0]\n",
    "fittest_ruleset = hex_to_ruleset(fittest)\n",
    "last_configs = ics[-1]"
   ]
  },
  {
   "cell_type": "code",
   "execution_count": 203,
   "metadata": {},
   "outputs": [
    {
     "data": {
      "text/plain": [
       "'0x41101250500005104304c031543c1ff'"
      ]
     },
     "execution_count": 203,
     "metadata": {},
     "output_type": "execute_result"
    }
   ],
   "source": [
    "fittest"
   ]
  },
  {
   "cell_type": "code",
   "execution_count": 204,
   "metadata": {},
   "outputs": [
    {
     "data": {
      "image/png": "[encoded data removed]",
      "text/plain": [
       "<matplotlib.figure.Figure at 0x10a47f6a0>"
      ]
     },
     "metadata": {
      "image/png": {
       "height": 233,
       "width": 1331
      }
     },
     "output_type": "display_data"
    }
   ],
   "source": [
    "n_subplots = 8\n",
    "plt.subplots(1, n_subplots, figsize=(20, 4))\n",
    "plt.tight_layout()\n",
    "\n",
    "random.seed(2)\n",
    "\n",
    "for counter, idx in enumerate(random.sample(range(100), n_subplots)): \n",
    "    plt.subplot(1, n_subplots, counter + 1)\n",
    "    initial_config = last_configs[idx]\n",
    "    history = iterate_automata(initial_config, fittest_ruleset, n_iter=N)\n",
    "    arr = np.array([[int(digit) for digit in row] for row in history])\n",
    "    majority = max(set(initial_config), key=initial_config.count)\n",
    "    plt.title(majority)\n",
    "    plt.imshow(arr, cmap=\"Purples\")\n",
    "    plt.xticks([])\n",
    "    if counter != 0:\n",
    "        plt.yticks([])\n",
    "\n",
    "plt.subplots_adjust(left=0.05, right=0.95, wspace=0.1)\n",
    "plt.show()\n",
    "# plt.savefig(\"analysis.png\", dpi=300)"
   ]
  },
  {
   "cell_type": "code",
   "execution_count": null,
   "metadata": {},
   "outputs": [],
   "source": []
  }
 ],
 "metadata": {
  "kernelspec": {
   "display_name": "Python 3",
   "language": "python",
   "name": "python3"
  },
  "language_info": {
   "codemirror_mode": {
    "name": "ipython",
    "version": 3
   },
   "file_extension": ".py",
   "mimetype": "text/x-python",
   "name": "python",
   "nbconvert_exporter": "python",
   "pygments_lexer": "ipython3",
   "version": "3.6.5"
  }
 },
 "nbformat": 4,
 "nbformat_minor": 2
}
